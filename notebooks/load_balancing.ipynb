{
 "cells": [
  {
   "cell_type": "markdown",
   "id": "6be06f8d",
   "metadata": {},
   "source": [
    "# Load Balancing App\n",
    "The Load Balancing CCO Application is a modular pipeline designed to train, evaluate, and utilize a Reinforcement Learning (RL) agent for dynamic Coverage and Capacity Optimization (CCO).\n",
    "\n",
    "The primary goal is to create an intelligent agent that suggests optimal cell antenna tilt configurations for each hour of the day. The agent's policy is trained on multiple days of simulated UE traffic data to learn time-of-day patterns. Its objective is to find a balance between three key network KPIs:\n"
   ]
  },
  {
   "cell_type": "code",
   "execution_count": null,
   "id": "f4e4ddd3",
   "metadata": {},
   "outputs": [],
   "source": [
    "import sys\n",
    "from pathlib import Path\n",
    "sys.path.append(f\"{Path().absolute().parent}\")"
   ]
  },
  {
   "cell_type": "code",
   "execution_count": null,
   "id": "a98e7b42",
   "metadata": {},
   "outputs": [],
   "source": [
    "import logging\n",
    "import os\n",
    "from IPython.display import Image, display\n",
    "\n",
    "from apps.load_balance.data_preprocessor import UEDataPreprocessor\n",
    "from apps.load_balance.bdt_manager import BDTManager\n",
    "from apps.load_balance.rl_trainer import run_rl_training\n",
    "from apps.load_balance.rl_predictor import run_rl_prediction\n",
    "from apps.load_balance.cco_visualizer import CCOVisualizer"
   ]
  },
  {
   "cell_type": "code",
   "execution_count": null,
   "id": "3d7ff789",
   "metadata": {},
   "outputs": [],
   "source": [
    "# --- Logging Setup ---\n",
    "logging.basicConfig(level=logging.INFO, format='%(asctime)s - %(levelname)s - %(message)s')\n",
    "logger = logging.getLogger(__name__)"
   ]
  },
  {
   "cell_type": "markdown",
   "id": "988d9d45",
   "metadata": {},
   "source": [
    "## Setting up Data Directory & Save Locations\n",
    "Unzip the `data/load_balancing_data.zip` file to get `data/load_balancing_data/` folder\n"
   ]
  },
  {
   "cell_type": "code",
   "execution_count": null,
   "id": "ae876370",
   "metadata": {},
   "outputs": [],
   "source": [
    "NOTEBOOK_DIR = os.getcwd()\n",
    "PROJECT_ROOT = os.path.abspath(os.path.join(NOTEBOOK_DIR, \"..\"))\n",
    "\n",
    "BASE_DATA_DIR = os.path.join(NOTEBOOK_DIR, \"data\", \"load_balancing_data\", \"generated_data\")\n",
    "STATIC_DATA_DIR = os.path.join(NOTEBOOK_DIR, \"data\", \"load_balancing_data\", \"data\")"
   ]
  },
  {
   "cell_type": "code",
   "execution_count": null,
   "id": "34c486fe",
   "metadata": {},
   "outputs": [],
   "source": [
    "# All relevant data required for this demo are located in the following directories\n",
    "TOPOLOGY_PATH = os.path.join(STATIC_DATA_DIR, \"topology.csv\")\n",
    "CONFIG_PATH = os.path.join(STATIC_DATA_DIR, \"config.csv\")\n",
    "TRAINING_DATA_PATH = os.path.join(STATIC_DATA_DIR, \"dummy_ue_training_data.csv\")\n",
    "\n",
    "# All data saved during the training and prediction processes are located in the following directories\n",
    "BDT_MODEL_PATH = os.path.join(\"data\", \"load_balancing_data\", \"bdt_model_map.pickle\")\n",
    "RL_MODEL_PATH = os.path.join(\"data\", \"load_balancing_data\", \"energy_saver_agent.zip\")\n",
    "RL_LOG_DIR = os.path.join(\"data\", \"load_balancing_data\", \"rl_training_logs\")\n",
    "PLOT_OUTPUT_DIR = os.path.join(STATIC_DATA_DIR, \"plots\")"
   ]
  },
  {
   "cell_type": "markdown",
   "id": "0a747cb6",
   "metadata": {},
   "source": [
    "# Showcasing **Energy Savings** Functions: "
   ]
  },
  {
   "cell_type": "markdown",
   "id": "c213ba23",
   "metadata": {},
   "source": [
    "Define the ``TRAIN_DAYS`` and ``test_day`` days, **optionally** ``TOTAL_TIMESTEPS``"
   ]
  },
  {
   "cell_type": "code",
   "execution_count": null,
   "id": "199bb021",
   "metadata": {},
   "outputs": [],
   "source": [
    "TRAIN_DAYS = [0, 1, 2, 3]\n",
    "TEST_DAY = 4\n",
    "days_to_process = sorted(set(TRAIN_DAYS + [TEST_DAY]))\n",
    "TOTAL_TIMESTEPS = 30000\n",
    "\n",
    "# Set inference tick\n",
    "TICK = 20"
   ]
  },
  {
   "cell_type": "markdown",
   "id": "98ef5877",
   "metadata": {},
   "source": [
    "### 1. Preprocessing all `User Equipement` **(UE)** Data\n",
    "Prepare raw, multi-day UE location data for use in the RL environment"
   ]
  },
  {
   "cell_type": "code",
   "execution_count": null,
   "id": "a1965cd5",
   "metadata": {},
   "outputs": [],
   "source": [
    "# 500 UEs x 24 ticks x 5 days = 60000 total data points\n",
    "logger.info(f\"--- Running UE Data Preprocessing for days: {days_to_process} ---\")\n",
    "preprocessor = UEDataPreprocessor(base_data_dir=BASE_DATA_DIR)\n",
    "preprocessor.run(days=days_to_process)\n",
    "logger.info(\"--- Preprocessing Step Finished ---\")"
   ]
  },
  {
   "cell_type": "markdown",
   "id": "f576b82a",
   "metadata": {},
   "source": [
    "### 2. Training core `bayesian_digital_twins` **(BDT)**\n",
    "Train Bayesian Digital Twin model, in addition to downloading the resulting model"
   ]
  },
  {
   "cell_type": "code",
   "execution_count": null,
   "id": "3f664052",
   "metadata": {},
   "outputs": [],
   "source": [
    "# Set parameters\n",
    "BDT_MODEL_ID = \"bdt_for_load_balancing\"\n",
    "CONTAINER_NAME = \"radp_dev-training-1\""
   ]
  },
  {
   "cell_type": "code",
   "execution_count": null,
   "id": "0b573abf",
   "metadata": {},
   "outputs": [],
   "source": [
    "# Train bayesian_digital_twins from scratch\n",
    "logger.info(\"--- Running BDT Training ---\")\n",
    "bdt_manager = BDTManager(\n",
    "    topology_path=TOPOLOGY_PATH,\n",
    "    training_data_path=TRAINING_DATA_PATH,\n",
    "    model_path=BDT_MODEL_PATH\n",
    ")\n",
    "bdt_manager.train(model_id=BDT_MODEL_ID, container_name=CONTAINER_NAME)\n",
    "logger.info(\"--- BDT Training Finished ---\")"
   ]
  },
  {
   "cell_type": "markdown",
   "id": "b1cafdf5",
   "metadata": {},
   "source": [
    "### 3. Train `RL Agent` for **Load Balancing** on The First 4 Days\n",
    "Orchestrates the training of the PPO agent"
   ]
  },
  {
   "cell_type": "code",
   "execution_count": null,
   "id": "dead1bfa",
   "metadata": {},
   "outputs": [],
   "source": [
    "# Intialize and train RL agent\n",
    "logger.info(f\"--- Running RL Training on Days: {TRAIN_DAYS} ---\")\n",
    "run_rl_training(\n",
    "    bdt_model_path=BDT_MODEL_PATH,\n",
    "    base_ue_data_dir=BASE_DATA_DIR,\n",
    "    training_days=TRAIN_DAYS,\n",
    "    topology_path=TOPOLOGY_PATH,\n",
    "    config_path=CONFIG_PATH,\n",
    "    rl_model_path=RL_MODEL_PATH,\n",
    "    log_dir=RL_LOG_DIR,\n",
    "    total_timesteps=TOTAL_TIMESTEPS\n",
    ")\n",
    "logger.info(\"--- RL Training Finished ---\")"
   ]
  },
  {
   "cell_type": "markdown",
   "id": "8a5bffee",
   "metadata": {},
   "source": [
    "### 4. Inference\n",
    "Uses the trained RL agent to get an immediate recommendation for a specific hour"
   ]
  },
  {
   "cell_type": "code",
   "execution_count": null,
   "id": "e6ac4e4a",
   "metadata": {},
   "outputs": [],
   "source": [
    "# Run inference on exising RL model\n",
    "logger.info(f\"--- Running Inference for Tick {TICK} ---\")\n",
    "run_rl_prediction(\n",
    "    model_load_path=RL_MODEL_PATH,\n",
    "    topology_path=TOPOLOGY_PATH,\n",
    "    target_tick=TICK\n",
    ")\n",
    "logger.info(\"--- Inference Step Finished ---\")"
   ]
  },
  {
   "cell_type": "markdown",
   "id": "00499f21",
   "metadata": {},
   "source": [
    "### 5. Visualization\n",
    "Perform the visualization of network performance & compare baseline configuration to an RL-optimized configuration.\n"
   ]
  },
  {
   "cell_type": "code",
   "execution_count": null,
   "id": "5aa06f0e",
   "metadata": {},
   "outputs": [],
   "source": [
    "# Generate visualization plots\n",
    "logger.info(f\"--- Running Visualization for Day {TEST_DAY}, Tick {TICK} ---\")\n",
    "try:\n",
    "    visualizer = CCOVisualizer(\n",
    "        bdt_model_path=BDT_MODEL_PATH,\n",
    "        rl_model_path=RL_MODEL_PATH,\n",
    "        topology_path=TOPOLOGY_PATH,\n",
    "        config_path=CONFIG_PATH,\n",
    "        base_ue_data_dir=BASE_DATA_DIR\n",
    "    )\n",
    "    \n",
    "    # Generate and save comparison plots for the baseline and RL-optimized scenarios.\n",
    "    visualizer.generate_comparison_plots(\n",
    "        day=TEST_DAY,\n",
    "        tick=TICK,\n",
    "        output_dir=PLOT_OUTPUT_DIR\n",
    "    )\n",
    "    logger.info(\"--- Visualization Step Finished ---\")\n",
    "except Exception as e:\n",
    "    logger.exception(f\"Visualization failed with error: {e}\")"
   ]
  },
  {
   "cell_type": "code",
   "execution_count": null,
   "id": "34de637c",
   "metadata": {},
   "outputs": [],
   "source": [
    "image_path = os.path.join(PLOT_OUTPUT_DIR, f\"cco_comparison_day{TEST_DAY}_tick_{TICK}.png\")\n",
    "\n",
    "# Display plot image\n",
    "display(Image(filename=image_path))"
   ]
  }
 ],
 "metadata": {
  "kernelspec": {
   "display_name": ".venv",
   "language": "python",
   "name": "python3"
  },
  "language_info": {
   "codemirror_mode": {
    "name": "ipython",
    "version": 3
   },
   "file_extension": ".py",
   "mimetype": "text/x-python",
   "name": "python",
   "nbconvert_exporter": "python",
   "pygments_lexer": "ipython3",
   "version": "3.9.13"
  }
 },
 "nbformat": 4,
 "nbformat_minor": 5
}
