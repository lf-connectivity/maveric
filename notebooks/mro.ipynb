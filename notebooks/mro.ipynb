{
 "cells": [
  {
   "cell_type": "markdown",
   "id": "1b6e8cd4",
   "metadata": {},
   "source": [
    "## Mobility Robustness Optimization (MRO)\n",
    "\n",
    "Takes in new observation data to train or update the bayesian digital twin model. It processes the input data and updates the model to better reflect the current network conditions.\n",
    "\n",
    "Then MRO optimizes the mobility robustness by solving the underlying problem using the trained model: finding optimal `HYST` and `TTT`. There are two solve approach shown: \n",
    "\n",
    "- Simple MRO\n",
    "- Reinforced MRO."
   ]
  },
  {
   "cell_type": "code",
   "execution_count": null,
   "id": "370ea1db",
   "metadata": {},
   "outputs": [],
   "source": [
    "import sys\n",
    "from pathlib import Path\n",
    "sys.path.append(f\"{Path().absolute().parent}\")"
   ]
  },
  {
   "cell_type": "code",
   "execution_count": null,
   "id": "55121147",
   "metadata": {},
   "outputs": [],
   "source": [
    "import pandas as pd\n",
    "import numpy as np\n",
    "from apps.mobility_robustness_optimization.simple_mro import SimpleMRO\n",
    "from apps.mobility_robustness_optimization.mro_rl import ReinforcedMRO"
   ]
  },
  {
   "cell_type": "markdown",
   "id": "8b670058",
   "metadata": {},
   "source": [
    "# Assuming user has only UE data, without received power\n",
    "\n",
    "use the following example `topology` and `mobility_model_params` to initiate MRO. Showcasing **Simple MRO** solving approach.\n",
    "\n",
    "\n",
    "*unzip the `data/mro_data.zip file` to get `data/mro_data/` folder*"
   ]
  },
  {
   "cell_type": "code",
   "execution_count": null,
   "id": "0dbe900f",
   "metadata": {},
   "outputs": [],
   "source": [
    "topology = pd.read_csv('data/mro_data/mro_topology.csv')\n",
    "topology"
   ]
  },
  {
   "cell_type": "code",
   "execution_count": null,
   "id": "6f74d653",
   "metadata": {},
   "outputs": [],
   "source": [
    "mobility_model_params = {\n",
    "    \"ue_tracks_generation\": {\n",
    "            \"params\": {\n",
    "                \"simulation_duration\": 3600,\n",
    "                \"simulation_time_interval_seconds\": 0.01,\n",
    "                \"num_ticks\": 50,\n",
    "                \"num_batches\": 1,\n",
    "                \"ue_class_distribution\": {\n",
    "                    \"stationary\": {\n",
    "                        \"count\": 10,\n",
    "                        \"velocity\": 0,\n",
    "                        \"velocity_variance\": 1\n",
    "                    },\n",
    "                    \"pedestrian\": {\n",
    "                        \"count\": 5,\n",
    "                        \"velocity\": 2,\n",
    "                        \"velocity_variance\": 1\n",
    "                    },\n",
    "                    \"cyclist\": {\n",
    "                        \"count\": 5,\n",
    "                        \"velocity\": 5,\n",
    "                        \"velocity_variance\": 1\n",
    "                    },\n",
    "                    \"car\": {\n",
    "                        \"count\": 12,\n",
    "                        \"velocity\": 20,\n",
    "                        \"velocity_variance\": 1\n",
    "                    }\n",
    "                },\n",
    "                \"lat_lon_boundaries\": {\n",
    "                    \"min_lat\": -90,\n",
    "                    \"max_lat\": 90,\n",
    "                    \"min_lon\": -180,\n",
    "                    \"max_lon\": 180\n",
    "                },\n",
    "                \"gauss_markov_params\": {\n",
    "                    \"alpha\": 0.5,\n",
    "                    \"variance\": 0.8,\n",
    "                    \"rng_seed\": 42,\n",
    "                    \"lon_x_dims\": 100,\n",
    "                    \"lon_y_dims\": 100,\n",
    "                    \"// TODO\": \"Account for supporting the user choosing the anchor_loc and cov_around_anchor.\",\n",
    "                    \"// Current implementation\": \"the UE Tracks generator will not be using these values.\",\n",
    "                    \"// anchor_loc\": {},\n",
    "                    \"// cov_around_anchor\": {}\n",
    "            }\n",
    "        }\n",
    "    }\n",
    "}"
   ]
  },
  {
   "cell_type": "markdown",
   "id": "92d44c54",
   "metadata": {},
   "source": [
    "<b>Optionally,</b> use mobility model to get `alpha` of your data and set it to params."
   ]
  },
  {
   "cell_type": "code",
   "execution_count": null,
   "id": "5ac380b1",
   "metadata": {},
   "outputs": [],
   "source": [
    "# [OPTIONAL] run this cell to get alpha calculated from the data into mobility_model_params\n",
    "\n",
    "from radp.digital_twin.mobility.param_regression import get_predicted_alpha\n",
    "\n",
    "# 20 UEs x 100 ticks = 2000 rows\n",
    "ue_data = pd.read_csv(\"data/mro_data/UE_data_20UE_100ticks.csv\") # change this to the data you want to use\n",
    "ue_data = ue_data.rename(columns={'latitude': 'lat', 'longitude': 'lon'})\n",
    "\n",
    "# set random initial alpha\n",
    "alpha0 = np.random.choice(np.arange(0, 1.1, 0.1))\n",
    "\n",
    "alpha = get_predicted_alpha(ue_data, alpha0 = alpha0, seed = 42)\n",
    "\n",
    "print(f\"Learned alpha: {alpha}\\n\")\n",
    "\n",
    "mobility_model_params[\"ue_tracks_generation\"][\"params\"][\"gauss_markov_params\"][\"alpha\"] = alpha"
   ]
  },
  {
   "cell_type": "code",
   "execution_count": null,
   "id": "519ba645",
   "metadata": {},
   "outputs": [],
   "source": [
    "mro = SimpleMRO(mobility_model_params, topology)"
   ]
  },
  {
   "cell_type": "code",
   "execution_count": null,
   "id": "813414a5",
   "metadata": {},
   "outputs": [],
   "source": [
    "# initially bayesian_digital_twins is empty\n",
    "print(f\"bayesian_digital_twins: {mro.bayesian_digital_twins}\")"
   ]
  },
  {
   "cell_type": "markdown",
   "id": "169ba49a",
   "metadata": {},
   "source": [
    "- prepare `new_data` for training/updating `bayesian_digital_twins`\n",
    "\n",
    "    - `new_data` should have received power data in cartesian df format\n",
    "    - if only have [latitude, longitude], call `preprocess_ue_data()` from RADP library"
   ]
  },
  {
   "cell_type": "code",
   "execution_count": null,
   "id": "8b429b70",
   "metadata": {},
   "outputs": [],
   "source": [
    "new_data_no_rxpwr = pd.read_csv(\"data/mro_data/UE_data_20UE_100ticks.csv\") # change this to the data you want to use\n",
    "\n",
    "# 20 UEs x 100 ticks = 2000 rows\n",
    "new_data_no_rxpwr = new_data_no_rxpwr.loc[:, ['longitude', 'latitude']]\n",
    "new_data_no_rxpwr.head()"
   ]
  },
  {
   "cell_type": "markdown",
   "id": "bf9cfc5b",
   "metadata": {},
   "source": [
    "If have data without received power information, then call `preprocess_ue_data()` from RADP library."
   ]
  },
  {
   "cell_type": "code",
   "execution_count": null,
   "id": "cb434c0e",
   "metadata": {},
   "outputs": [],
   "source": [
    "from notebooks.radp_library import preprocess_ue_data\n",
    "\n",
    "input_data = preprocess_ue_data(new_data_no_rxpwr, topology)\n",
    "input_data.head()"
   ]
  },
  {
   "cell_type": "code",
   "execution_count": null,
   "id": "20f03738",
   "metadata": {},
   "outputs": [],
   "source": [
    "# train bayesian_digital_twins from scratch\n",
    "mro.train_or_update_rf_twin(new_data=input_data)"
   ]
  },
  {
   "cell_type": "code",
   "execution_count": null,
   "id": "b24d1efe",
   "metadata": {},
   "outputs": [],
   "source": [
    "mro.bayesian_digital_twins # bayesian_digital_twins is trained for each cell_id"
   ]
  },
  {
   "cell_type": "markdown",
   "id": "e4b06af1",
   "metadata": {},
   "source": [
    "call `solve()` method to get optimized `HYST` and `TTT`"
   ]
  },
  {
   "cell_type": "code",
   "execution_count": null,
   "id": "9e12b59e",
   "metadata": {},
   "outputs": [],
   "source": [
    "# adjust n_epochs for better performance\n",
    "mro.solve(n_epochs=100)"
   ]
  },
  {
   "cell_type": "markdown",
   "id": "7fff9530",
   "metadata": {},
   "source": [
    "can save trained/updated `bayesian_digital_twins`"
   ]
  },
  {
   "cell_type": "code",
   "execution_count": null,
   "id": "414750fd",
   "metadata": {},
   "outputs": [],
   "source": [
    "saving_dir_relative_path = \"data/mro_data/\"\n",
    "\n",
    "mro.save_bdt(saving_dir_relative_path) # True indicates save is successful"
   ]
  },
  {
   "cell_type": "markdown",
   "id": "b9d60974",
   "metadata": {},
   "source": [
    "can load this `bayesian_digital_twins` when needed"
   ]
  },
  {
   "cell_type": "code",
   "execution_count": null,
   "id": "2b951ed8",
   "metadata": {},
   "outputs": [],
   "source": [
    "mro.bayesian_digital_twins = {} # bayesian_digital_twins is empty again\n",
    "\n",
    "pkl_file_path = \"data/mro_data/digital_twins.pkl\"\n",
    "mro.load_bdt(pkl_file_path) # True indicates load is successful"
   ]
  },
  {
   "cell_type": "markdown",
   "id": "16be8d36",
   "metadata": {},
   "source": [
    "let's try updating the `bayesian_digital_twins` with new observations"
   ]
  },
  {
   "cell_type": "code",
   "execution_count": null,
   "id": "df2748b0",
   "metadata": {},
   "outputs": [],
   "source": [
    "# loading new UE data assuming user have new observations now.\n",
    "\n",
    "# new observations with [latitude, longitude] --> preprocess_ue_data(new_data, topology) --> new_obeservations\n",
    "new_obeservations = pd.read_csv(\"data/mro_data/UE_data_new_observations_20UE_100ticks.csv\")\n",
    "input_data = new_obeservations.copy()\n",
    "input_data.head()"
   ]
  },
  {
   "cell_type": "code",
   "execution_count": null,
   "id": "43c831be",
   "metadata": {},
   "outputs": [],
   "source": [
    "# update bdt with new observations, calling train_or_update_rf_twin() again\n",
    "mro.train_or_update_rf_twin(input_data)"
   ]
  },
  {
   "cell_type": "markdown",
   "id": "55ddb909",
   "metadata": {},
   "source": [
    "can solve with updated `bayesian_digital_twins`"
   ]
  },
  {
   "cell_type": "code",
   "execution_count": null,
   "id": "3187fae0",
   "metadata": {},
   "outputs": [],
   "source": [
    "# adjust n_epochs for better performance\n",
    "mro.solve(n_epochs=100)"
   ]
  },
  {
   "cell_type": "markdown",
   "id": "09a26dbf",
   "metadata": {},
   "source": [
    "# Assuming user has UE data, including received power information\n",
    "\n",
    "use the following example `topology` and `mobility_model_params` to initiate MRO. Showcasing **Reinforced MRO** solving approach."
   ]
  },
  {
   "cell_type": "code",
   "execution_count": null,
   "id": "aa70f1c8",
   "metadata": {},
   "outputs": [],
   "source": [
    "rl_mro = ReinforcedMRO(mobility_model_params, topology)"
   ]
  },
  {
   "cell_type": "code",
   "execution_count": null,
   "id": "3080e60c",
   "metadata": {},
   "outputs": [],
   "source": [
    "print(f\"bayesian_digital_twins: {rl_mro.bayesian_digital_twins}\", end='\\n\\n') # bayesian_digital_twins is empty initially\n",
    "\n",
    "pkl_file_path = \"data/mro_data/digital_twins.pkl\" # run previous section to have this file\n",
    "rl_mro.load_bdt(pkl_file_path) # True indicates load is successful"
   ]
  },
  {
   "cell_type": "code",
   "execution_count": null,
   "id": "da6fc484",
   "metadata": {},
   "outputs": [],
   "source": [
    "rl_mro.bayesian_digital_twins"
   ]
  },
  {
   "cell_type": "markdown",
   "id": "e6adba85",
   "metadata": {},
   "source": [
    "- load `new_data` for training/updating `bayesian_digital_twins`\n",
    "\n",
    "    - `new_data` should have received power data in cartesian df format"
   ]
  },
  {
   "cell_type": "code",
   "execution_count": null,
   "id": "cf43b31d",
   "metadata": {},
   "outputs": [],
   "source": [
    "# 20 UEs x 50 ticks x 3 cells cartesian = 3000 rows\n",
    "ue_data_with_rxpower = pd.read_csv(\"data/mro_data/UE_data_with_rxpower_20UE_50ticks.csv\")\n",
    "input_data = ue_data_with_rxpower.copy()\n",
    "\n",
    "input_data"
   ]
  },
  {
   "cell_type": "code",
   "execution_count": null,
   "id": "7dd017f2",
   "metadata": {},
   "outputs": [],
   "source": [
    "# Dummy solve call to avoid fantasy observation error: ensuring all test independent caches exist\n",
    "rl_mro.solve(total_timesteps=2)"
   ]
  },
  {
   "cell_type": "code",
   "execution_count": null,
   "id": "53aa7612",
   "metadata": {},
   "outputs": [],
   "source": [
    "# update bdt with new data\n",
    "rl_mro.train_or_update_rf_twin(input_data)"
   ]
  },
  {
   "cell_type": "code",
   "execution_count": null,
   "id": "efa69c4e",
   "metadata": {},
   "outputs": [],
   "source": [
    "# adjust total_timesteps for better performance\n",
    "rl_mro.solve(total_timesteps=100)"
   ]
  }
 ],
 "metadata": {
  "kernelspec": {
   "display_name": ".venv",
   "language": "python",
   "name": "python3"
  },
  "language_info": {
   "codemirror_mode": {
    "name": "ipython",
    "version": 3
   },
   "file_extension": ".py",
   "mimetype": "text/x-python",
   "name": "python",
   "nbconvert_exporter": "python",
   "pygments_lexer": "ipython3",
   "version": "3.10.16"
  }
 },
 "nbformat": 4,
 "nbformat_minor": 5
}
