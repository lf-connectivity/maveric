{
 "cells": [
  {
   "cell_type": "markdown",
   "metadata": {},
   "source": [
    "## Energy Savings App\n",
    "\n",
    "The Energy Saving Application is a comprehensive, modular pipeline designed to train and deploy a Reinforcement Learning (RL) agent for dynamic network optimization. The core objective is to reduce power consumption by intelligently turning cell sectors on or off and adjusting their antenna tilts based on the time of day, while maintaining acceptable network coverage.\n",
    "\n",
    "This system leverages a pre-trained Bayesian Digital Twin (BDT) RF model, which allows the RL training loop to perform rapid, local RF simulations. This architecture decouples the RL agent's learning process from the latency of live backend services, enabling efficient training on multi-day traffic patterns."
   ]
  },
  {
   "cell_type": "code",
   "execution_count": null,
   "metadata": {},
   "outputs": [],
   "source": [
    "import sys\n",
    "from pathlib import Path\n",
    "sys.path.append(f\"{Path().absolute().parent}\")"
   ]
  },
  {
   "cell_type": "code",
   "execution_count": null,
   "metadata": {},
   "outputs": [],
   "source": [
    "import logging\n",
    "import os\n",
    "from IPython.display import Image, display\n",
    "\n",
    "from apps.energy_savings.data_preprocessor import UEDataPreprocessor\n",
    "from apps.energy_savings.bdt_manager import BDTManager\n",
    "from apps.energy_savings.rl_trainer import run_rl_training\n",
    "from apps.energy_savings.rl_predictor import run_rl_prediction\n",
    "from apps.energy_savings.energy_saving_visualizer import EnergySavingVisualizer"
   ]
  },
  {
   "cell_type": "code",
   "execution_count": null,
   "metadata": {},
   "outputs": [],
   "source": [
    "# --- Logging Setup ---\n",
    "logging.basicConfig(level=logging.INFO, format='%(asctime)s - %(levelname)s - %(message)s')\n",
    "logger = logging.getLogger(__name__)"
   ]
  },
  {
   "cell_type": "markdown",
   "metadata": {},
   "source": [
    "# Setting up Data Directory & Save Locations\n",
    "\n",
    "*unzip the `data/eneregy_saving_data.zip` file to get `data/energy_saving_data/` folder*"
   ]
  },
  {
   "cell_type": "code",
   "execution_count": null,
   "metadata": {},
   "outputs": [],
   "source": [
    "NOTEBOOK_DIR = os.getcwd()\n",
    "PROJECT_ROOT = os.path.abspath(os.path.join(NOTEBOOK_DIR, \"..\"))\n",
    "\n",
    "BASE_DATA_DIR = os.path.join(NOTEBOOK_DIR, \"data\", \"energy_saving_data\", \"generated_data\")\n",
    "STATIC_DATA_DIR = os.path.join(NOTEBOOK_DIR, \"data\", \"energy_saving_data\", \"data\")"
   ]
  },
  {
   "cell_type": "code",
   "execution_count": null,
   "metadata": {},
   "outputs": [],
   "source": [
    "# All relevant data required for this demo are located in the following directories\n",
    "TOPOLOGY_PATH = os.path.join(STATIC_DATA_DIR, \"topology.csv\")\n",
    "CONFIG_PATH = os.path.join(STATIC_DATA_DIR, \"config.csv\")\n",
    "TRAINING_DATA_PATH = os.path.join(STATIC_DATA_DIR, \"dummy_ue_training_data.csv\")\n",
    "\n",
    "# All data saved during the training and prediction processes are located in the following directories\n",
    "BDT_MODEL_PATH = os.path.join(\"data\", \"energy_saving_data\", \"bdt_model_map.pickle\")\n",
    "RL_MODEL_PATH = os.path.join(\"data\", \"energy_saving_data\", \"energy_saver_agent.zip\")\n",
    "RL_LOG_DIR = os.path.join(\"data\", \"energy_saving_data\", \"rl_training_logs\")\n",
    "PLOT_OUTPUT_DIR = os.path.join(STATIC_DATA_DIR, \"plots\")"
   ]
  },
  {
   "cell_type": "markdown",
   "metadata": {},
   "source": [
    "# Showcasing **Energy Savings** Functions: "
   ]
  },
  {
   "cell_type": "markdown",
   "metadata": {},
   "source": [
    "Define the ``TRAIN_DAYS`` and ``test_day`` days, **optionally** ``TOTAL_TIMESTEPS``"
   ]
  },
  {
   "cell_type": "code",
   "execution_count": null,
   "metadata": {},
   "outputs": [],
   "source": [
    "TRAIN_DAYS = [0, 1, 2, 3]\n",
    "TEST_DAY = 4\n",
    "days_to_process = sorted(set(TRAIN_DAYS + [TEST_DAY]))\n",
    "TOTAL_TIMESTEPS = 25000\n",
    "\n",
    "# Set inference tick\n",
    "TICK = 23"
   ]
  },
  {
   "cell_type": "markdown",
   "metadata": {},
   "source": [
    "### 1. Preprocessing all `User Equipement` **(UE)** Data\n",
    "Preprocess the raw UE data CSV files is performed to ensure compatibility with the RL Gym environment"
   ]
  },
  {
   "cell_type": "code",
   "execution_count": null,
   "metadata": {},
   "outputs": [],
   "source": [
    "# 500 UEs x 24 ticks x 5 days = 60000 total data points\n",
    "logger.info(f\"--- Running UE Data Preprocessing for days: {days_to_process} ---\")\n",
    "preprocessor = UEDataPreprocessor(base_data_dir=BASE_DATA_DIR)\n",
    "preprocessor.run(days=days_to_process)\n",
    "logger.info(\"--- Preprocessing Step Finished ---\")"
   ]
  },
  {
   "cell_type": "markdown",
   "metadata": {},
   "source": [
    "### 2. Training core `bayesian_digital_twins` **(BDT)**\n",
    "Call for the training of the Bayesian Digital Twin model, as well as the downloading of the resulting model"
   ]
  },
  {
   "cell_type": "code",
   "execution_count": null,
   "metadata": {},
   "outputs": [],
   "source": [
    "# Set parameters\n",
    "BDT_MODEL_ID = \"bdt_for_energy_saving\"\n",
    "CONTAINER_NAME = \"radp_dev-training-1\""
   ]
  },
  {
   "cell_type": "code",
   "execution_count": null,
   "metadata": {},
   "outputs": [],
   "source": [
    "# Train bayesian_digital_twins from scratch\n",
    "logger.info(\"--- Running BDT Training ---\")\n",
    "bdt_manager = BDTManager(\n",
    "    topology_path=TOPOLOGY_PATH,\n",
    "    training_data_path=TRAINING_DATA_PATH,\n",
    "    model_path=BDT_MODEL_PATH\n",
    ")\n",
    "\n",
    "bdt_manager.train(model_id=BDT_MODEL_ID, container_name=CONTAINER_NAME)\n",
    "\n",
    "logger.info(\"--- BDT Training Finished ---\")"
   ]
  },
  {
   "cell_type": "markdown",
   "metadata": {},
   "source": [
    "### 3. Train `RL Agent` for **Energy Savings** on The First 4 Days\n",
    "- Initialize and train a `reinforcement learning` (RL) agent for energy-saving applications with an environment set up using `site configuration` & `UE` data, and a `BDT` model.\n",
    "- Log monitors training process & saves checkpoints periodically"
   ]
  },
  {
   "cell_type": "code",
   "execution_count": null,
   "metadata": {},
   "outputs": [],
   "source": [
    "# Intialize and train RL agent\n",
    "logger.info(f\"--- Running RL Training on Days: {TRAIN_DAYS} ---\")\n",
    "\n",
    "run_rl_training(\n",
    "    bdt_model_path=BDT_MODEL_PATH,\n",
    "    base_ue_data_dir=BASE_DATA_DIR,\n",
    "    training_days=TRAIN_DAYS,\n",
    "    topology_path=TOPOLOGY_PATH,\n",
    "    config_path=CONFIG_PATH,\n",
    "    rl_model_path=RL_MODEL_PATH,\n",
    "    log_dir=RL_LOG_DIR,\n",
    "    total_timesteps=TOTAL_TIMESTEPS\n",
    ")\n",
    "\n",
    "logger.info(\"--- RL Training Finished ---\")"
   ]
  },
  {
   "cell_type": "markdown",
   "metadata": {},
   "source": [
    "### 4. Inference\n",
    "- Load `RL agent` and predicts the optimal cell configuration, including `tilt angles` and `on/off states`, for energy-saving applications. \n",
    "- Prediction is performed for a specified `time tick` (hour). "
   ]
  },
  {
   "cell_type": "code",
   "execution_count": null,
   "metadata": {},
   "outputs": [],
   "source": [
    "# Run inference on exising RL model\n",
    "logger.info(f\"--- Running Inference for Tick {TICK} ---\")\n",
    "run_rl_prediction(\n",
    "    model_load_path=RL_MODEL_PATH,\n",
    "    topology_path=TOPOLOGY_PATH,\n",
    "    target_tick=TICK\n",
    ")\n",
    "logger.info(\"--- Inference Step Finished ---\")"
   ]
  },
  {
   "cell_type": "markdown",
   "metadata": {},
   "source": [
    "### 5. Visualization\n",
    "Perform the visualization of network performance & compare baseline configuration to an RL-optimized configuration.\n"
   ]
  },
  {
   "cell_type": "code",
   "execution_count": null,
   "metadata": {},
   "outputs": [],
   "source": [
    "# Generate visualization plots\n",
    "logger.info(f\"--- Running Visualization for Day {TEST_DAY}, Tick {TICK} ---\")\n",
    "\n",
    "try:\n",
    "    visualizer = EnergySavingVisualizer(\n",
    "        bdt_model_path=BDT_MODEL_PATH,\n",
    "        rl_model_path=RL_MODEL_PATH,\n",
    "        topology_path=TOPOLOGY_PATH,\n",
    "        config_path=CONFIG_PATH,\n",
    "        base_ue_data_dir=BASE_DATA_DIR\n",
    "    )\n",
    "    \n",
    "    # Generate and save comparison plots for the baseline and RL-optimized scenarios.\n",
    "    visualizer.generate_comparison_plots(\n",
    "        day=TEST_DAY,\n",
    "        tick=TICK,\n",
    "        output_dir=PLOT_OUTPUT_DIR\n",
    "    )\n",
    "    logger.info(\"--- Visualization Step Finished ---\")\n",
    "    \n",
    "except Exception as e:\n",
    "    logger.exception(f\"Visualization failed with error: {e}\")"
   ]
  },
  {
   "cell_type": "code",
   "execution_count": null,
   "metadata": {},
   "outputs": [],
   "source": [
    "image_path = os.path.join(PLOT_OUTPUT_DIR, f\"energy_saving_comparison_day{TEST_DAY}_tick_{TICK}.png\")\n",
    "\n",
    "# Display plot image\n",
    "display(Image(filename=image_path))"
   ]
  }
 ],
 "metadata": {
  "kernelspec": {
   "display_name": ".venv",
   "language": "python",
   "name": "python3"
  },
  "language_info": {
   "codemirror_mode": {
    "name": "ipython",
    "version": 3
   },
   "file_extension": ".py",
   "mimetype": "text/x-python",
   "name": "python",
   "nbconvert_exporter": "python",
   "pygments_lexer": "ipython3",
   "version": "3.9.13"
  }
 },
 "nbformat": 4,
 "nbformat_minor": 2
}
